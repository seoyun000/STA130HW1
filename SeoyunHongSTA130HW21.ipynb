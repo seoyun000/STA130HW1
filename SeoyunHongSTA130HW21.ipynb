{
 "cells": [
  {
   "cell_type": "code",
   "execution_count": null,
   "id": "03c43380",
   "metadata": {},
   "outputs": [],
   "source": [
    "6. Report on your experience interacting with ChatBots to understand the Monte Hall problem and \"Markovian ChatBot\" code\n",
    "\n",
    "1. Understanding the Monty Hall Problem\n",
    "When I asked about the Monty Hall problem, the chatbot quickly explained the basic concept and the probabilistic approach. For example, it detailed the process of which door is opened after the initial choice and why switching is advantageous, making the response very helpful.\n",
    "\n",
    "2. Markov Chain Chatbot Code\n",
    "When I inquired about the code for Markov chains, the chatbot provided the relevant basic concepts along with how to use the code. The inclusion of examples made it easy to understand.\n",
    "\n",
    "3. Usefulness and Frustration of Interaction\n",
    "Overall, interacting with the chatbot was generally useful, but at times the responses were limited or unclear, leading to some frustration. Although it organized the information neatly, the AI's way of answering sometimes made it difficult to understand. However, it was very helpful for basic concepts and simple questions.\n",
    "\n",
    "4. Evaluation of Chatbot Usefulness\n",
    "I believe that chatbots are excellent and useful tools for understanding code and building basic concepts. While there are limitations due to their current language skills (e.g., expression ability), they are very effective for simple error resolution. However, when delving into deeper, more complex issues, I felt that the chatbot sometimes strayed from the topic. In conclusion, while chatbots are great for quick references, I would not recommend them for in-depth understanding or when expert knowledge is required.\n",
    "\n",
    "https://chatgpt.com/share/66eb9d68-6130-8011-9c2c-0aa76efad869\n",
    "\n",
    "\n",
    "7. Reflect on your experience interacting with ChatBot and describe how your perception of AI-driven assistance tools in the context of learning coding, statistics, and data science has been evolving (or not) since joining the course\n",
    "\n",
    "1. initial recognition\n",
    "At first, the chatbot did not trust the information provided by AI. In particular, I thought there would be a lack of explanation for complex topics or concepts.\n",
    "\n",
    "2. discovery of usefulness\n",
    "However, during the course of the class, I realized that chatbots were very helpful in understanding basic concepts and solving simple problems. In particular, the learning speed was accelerated thanks to their ability to provide simple answers. For example, they were able to get reliable answers quickly when solving coding errors.\n",
    "\n",
    "3. marginal recognition\n",
    "Nevertheless, after using it for several months, I realized that chatbots have limitations. I was so disappointed that the chatbot's understanding couldn't keep up with difficult-to-understand questions or complex problems.\n",
    "\n",
    "8. \n",
    "https://chatgpt.com/share/66eba565-87d4-8011-bf4a-0b26eb7df655\n",
    "\n",
    "\n",
    "9. Have you reviewed the course wiki-textbook and interacted with a ChatBot (or, if that wasn't sufficient, real people in the course piazza discussion board or TA office hours) to help you understand all the material in the tutorial and lecture that you didn't quite follow when you first saw it?\n",
    "\n",
    "Yes it was helpful, that I have a resource to take a look again while I didn’t quite follow the lecture or tutorial. \n",
    "\n",
    "5. https://chatgpt.com/share/66ebb5da-9418-8011-8be6-98f185504932\n"
   ]
  }
 ],
 "metadata": {
  "kernelspec": {
   "display_name": "Python 3 (ipykernel)",
   "language": "python",
   "name": "python3"
  },
  "language_info": {
   "codemirror_mode": {
    "name": "ipython",
    "version": 3
   },
   "file_extension": ".py",
   "mimetype": "text/x-python",
   "name": "python",
   "nbconvert_exporter": "python",
   "pygments_lexer": "ipython3",
   "version": "3.11.6"
  }
 },
 "nbformat": 4,
 "nbformat_minor": 5
}
